{
 "cells": [
  {
   "cell_type": "code",
   "execution_count": null,
   "id": "fbce67ab",
   "metadata": {},
   "outputs": [],
   "source": [
    "#Testing notebook for purposes of the github demo"
   ]
  }
 ],
 "metadata": {
  "language_info": {
   "name": "python"
  }
 },
 "nbformat": 4,
 "nbformat_minor": 5
}
