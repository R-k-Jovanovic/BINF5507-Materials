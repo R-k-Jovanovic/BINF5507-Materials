{
 "cells": [
  {
   "cell_type": "code",
   "execution_count": 1,
   "id": "24818b14",
   "metadata": {},
   "outputs": [],
   "source": [
    "#test for github demo\n",
    "import matplotlib\n",
    "import seaborn"
   ]
  }
 ],
 "metadata": {
  "kernelspec": {
   "display_name": "default",
   "language": "python",
   "name": "python3"
  },
  "language_info": {
   "codemirror_mode": {
    "name": "ipython",
    "version": 3
   },
   "file_extension": ".py",
   "mimetype": "text/x-python",
   "name": "python",
   "nbconvert_exporter": "python",
   "pygments_lexer": "ipython3",
   "version": "3.13.3"
  }
 },
 "nbformat": 4,
 "nbformat_minor": 5
}
